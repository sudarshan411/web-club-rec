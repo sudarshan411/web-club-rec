{
 "cells": [
  {
   "cell_type": "markdown",
   "metadata": {},
   "source": [
    "# Systems Recruitment Task - Cryptography\n",
    "\n",
    "## Given text is:\n",
    "- d3ZucXN0b2tib2xlamp5ZW5zdnlicGpsa3VhcGx2 \n",
    "- b2dzd2xmcndwb2JmY2J4dmdtZGZseGp1dnZuaGZ0amFiZ2M=\n",
    "- YW9sdWxlYXJsZnB6anlmd2F2bnlod29m\n",
    "- aGZyZ3VyeHJsZ2pyYWds\n",
    "- Z3JlYXRzdGFydA==\n"
   ]
  },
  {
   "cell_type": "code",
   "execution_count": 1,
   "metadata": {},
   "outputs": [],
   "source": [
    "cypher_text = [\"d3ZucXN0b2tib2xlamp5ZW5zdnlicGpsa3VhcGx2\", \n",
    "               \"b2dzd2xmcndwb2JmY2J4dmdtZGZseGp1dnZuaGZ0amFiZ2M=\",\n",
    "               \"YW9sdWxlYXJsZnB6anlmd2F2bnlod29m\",\n",
    "               \"aGZyZ3VyeHJsZ2pyYWds\",\n",
    "               \"Z3JlYXRzdGFydA==\"]"
   ]
  },
  {
   "cell_type": "markdown",
   "metadata": {},
   "source": [
    "#### Looking at the last line, it seems to be base64 encrypted (due to the padding in the end)"
   ]
  },
  {
   "cell_type": "markdown",
   "metadata": {},
   "source": [
    "### Decrypting base64 encryption using custom decryptor"
   ]
  },
  {
   "cell_type": "code",
   "execution_count": 2,
   "metadata": {},
   "outputs": [],
   "source": [
    "#to help in making the base64 index, hence helping in substituting characters with respective 6-bit binary representation\n",
    "def int_to_bin64(num):\n",
    "    result = ''\n",
    "    count = 0\n",
    "    while num > 0:\n",
    "        result += str(num%2)\n",
    "        num//=2\n",
    "        count+=1\n",
    "    result = '0'*(6-count) + result[::-1]\n",
    "    return result\n",
    "    "
   ]
  },
  {
   "cell_type": "code",
   "execution_count": 3,
   "metadata": {},
   "outputs": [
    {
     "data": {
      "text/plain": [
       "{'A': '000000',\n",
       " 'B': '000001',\n",
       " 'C': '000010',\n",
       " 'D': '000011',\n",
       " 'E': '000100',\n",
       " 'F': '000101',\n",
       " 'G': '000110',\n",
       " 'H': '000111',\n",
       " 'I': '001000',\n",
       " 'J': '001001',\n",
       " 'K': '001010',\n",
       " 'L': '001011',\n",
       " 'M': '001100',\n",
       " 'N': '001101',\n",
       " 'O': '001110',\n",
       " 'P': '001111',\n",
       " 'Q': '010000',\n",
       " 'R': '010001',\n",
       " 'S': '010010',\n",
       " 'T': '010011',\n",
       " 'U': '010100',\n",
       " 'V': '010101',\n",
       " 'W': '010110',\n",
       " 'X': '010111',\n",
       " 'Y': '011000',\n",
       " 'Z': '011001',\n",
       " 'a': '011010',\n",
       " 'b': '011011',\n",
       " 'c': '011100',\n",
       " 'd': '011101',\n",
       " 'e': '011110',\n",
       " 'f': '011111',\n",
       " 'g': '100000',\n",
       " 'h': '100001',\n",
       " 'i': '100010',\n",
       " 'j': '100011',\n",
       " 'k': '100100',\n",
       " 'l': '100101',\n",
       " 'm': '100110',\n",
       " 'n': '100111',\n",
       " 'o': '101000',\n",
       " 'p': '101001',\n",
       " 'q': '101010',\n",
       " 'r': '101011',\n",
       " 's': '101100',\n",
       " 't': '101101',\n",
       " 'u': '101110',\n",
       " 'v': '101111',\n",
       " 'w': '110000',\n",
       " 'x': '110001',\n",
       " 'y': '110010',\n",
       " 'z': '110011',\n",
       " '0': '110100',\n",
       " '1': '110101',\n",
       " '2': '110110',\n",
       " '3': '110111',\n",
       " '4': '111000',\n",
       " '5': '111001',\n",
       " '6': '111010',\n",
       " '7': '111011',\n",
       " '8': '111100',\n",
       " '9': '111101',\n",
       " '+': '111110',\n",
       " '/': '111111'}"
      ]
     },
     "execution_count": 3,
     "metadata": {},
     "output_type": "execute_result"
    }
   ],
   "source": [
    "#creating the base64 index\n",
    "base64index = {}\n",
    "for i in range (26):\n",
    "    base64index[chr(65+i)] = int_to_bin64(i)\n",
    "for i in range (26):\n",
    "    base64index[chr(97+i)] = int_to_bin64(26+i)\n",
    "for i in range (10):\n",
    "    base64index[str(i)] = int_to_bin64(52+i)\n",
    "base64index['+'] = int_to_bin64(62)\n",
    "base64index['/'] = int_to_bin64(63)\n",
    "base64index"
   ]
  },
  {
   "cell_type": "code",
   "execution_count": 4,
   "metadata": {},
   "outputs": [],
   "source": [
    "#to convert binary numbers to their decimal equivalent\n",
    "def bin_to_dec(num):\n",
    "    result = 0\n",
    "    count = 0\n",
    "    while num > 0:\n",
    "        result += (num%10)*(2**count)\n",
    "        num//=10\n",
    "        count+=1\n",
    "    return result"
   ]
  },
  {
   "cell_type": "code",
   "execution_count": 5,
   "metadata": {},
   "outputs": [
    {
     "data": {
      "text/plain": [
       "99"
      ]
     },
     "execution_count": 5,
     "metadata": {},
     "output_type": "execute_result"
    }
   ],
   "source": [
    "#example to show that the above function works\n",
    "bin_to_dec(1100011)"
   ]
  },
  {
   "cell_type": "code",
   "execution_count": 6,
   "metadata": {},
   "outputs": [],
   "source": [
    "#the main decrypting function for base64\n",
    "def base64decode(text):\n",
    "    bin_text = ''\n",
    "    for i in text:\n",
    "        if i != '=':\n",
    "            bin_text += base64index[i]\n",
    "    k=0\n",
    "    result = ''\n",
    "    while k <= len(bin_text)-8:\n",
    "        num = int(bin_text[k:k+8])\n",
    "        num = (bin_to_dec(num))\n",
    "        result += chr(num)\n",
    "        k+=8\n",
    "    return result"
   ]
  },
  {
   "cell_type": "code",
   "execution_count": 7,
   "metadata": {},
   "outputs": [
    {
     "data": {
      "text/plain": [
       "['wvnqstokbolejjyensvybpjlkuaplv',\n",
       " 'ogswlfrwpobfcbxvgmdflxjuvvnhftjabgc',\n",
       " 'aolulearlfpzjyfwavnyhwof',\n",
       " 'hfrgurxrlgjragl',\n",
       " 'greatstart']"
      ]
     },
     "execution_count": 7,
     "metadata": {},
     "output_type": "execute_result"
    }
   ],
   "source": [
    "#decrypting the encrypted text\n",
    "for i in range(5):\n",
    "    temp = base64decode(cypher_text[i])\n",
    "    cypher_text[i]  = temp\n",
    "cypher_text"
   ]
  },
  {
   "cell_type": "markdown",
   "metadata": {},
   "source": [
    "#### The encryption was base64 after all, as we are supposedly off to a \"great start\".\n",
    "\n",
    "#### e4 seems to be a Caesar cipher with offset 13"
   ]
  },
  {
   "cell_type": "code",
   "execution_count": 8,
   "metadata": {},
   "outputs": [],
   "source": [
    "#creating dictionaries to retrieve alphabets\n",
    "dict1 = {}\n",
    "dict2 = {}\n",
    "alphabet = 'abcdefghijklmnopqrstuvwxyz'\n",
    "for i in range(26):\n",
    "    dict1[i+1] = alphabet[i]\n",
    "    dict2[alphabet[i]] = i+1"
   ]
  },
  {
   "cell_type": "code",
   "execution_count": 9,
   "metadata": {},
   "outputs": [],
   "source": [
    "#function to decrypt caesar cipher\n",
    "def caesar(message, offset):\n",
    "    decrypted = ''\n",
    "    for i in message:\n",
    "        num = dict2[i] - offset\n",
    "        if num <= 0:\n",
    "            num+=26\n",
    "        decrypted += dict1[num]\n",
    "    return decrypted"
   ]
  },
  {
   "cell_type": "code",
   "execution_count": 10,
   "metadata": {},
   "outputs": [],
   "source": [
    "#decrypting the first 4 strings\n",
    "for i in range(4):\n",
    "    temp = caesar(cypher_text[i], 13)\n",
    "    cypher_text[i] = temp"
   ]
  },
  {
   "cell_type": "code",
   "execution_count": 11,
   "metadata": {},
   "outputs": [
    {
     "data": {
      "text/plain": [
       "['jiadfgbxobyrwwlrafilocwyxhncyi',\n",
       " 'btfjysejcbospokitzqsykwhiiausgwnotp',\n",
       " 'nbyhyrneyscmwlsjnialujbs',\n",
       " 'usethekeytwenty',\n",
       " 'greatstart']"
      ]
     },
     "execution_count": 11,
     "metadata": {},
     "output_type": "execute_result"
    }
   ],
   "source": [
    "cypher_text"
   ]
  },
  {
   "cell_type": "markdown",
   "metadata": {},
   "source": [
    "#### e4 indeed is a Caesar cipher\n",
    "\n",
    "#### e3, from the hints and given logic, is again a Caesar cipher, but with offset 20"
   ]
  },
  {
   "cell_type": "code",
   "execution_count": 12,
   "metadata": {},
   "outputs": [
    {
     "data": {
      "text/plain": [
       "['pogjlmhduhexccrxgloruicedntieo',\n",
       " 'hzlpeykpihuyvuqozfwyeqcnoogaymctuzv',\n",
       " 'thenextkeyiscryptography',\n",
       " 'usethekeytwenty',\n",
       " 'greatstart']"
      ]
     },
     "execution_count": 12,
     "metadata": {},
     "output_type": "execute_result"
    }
   ],
   "source": [
    "#decrypting the first 3 strings\n",
    "for i in range(3):\n",
    "    temp = caesar(cypher_text[i], 20)\n",
    "    cypher_text[i] = temp\n",
    "cypher_text"
   ]
  },
  {
   "cell_type": "markdown",
   "metadata": {},
   "source": [
    "#### Looking at the hint given, e2 seems to be a substitution cipher. From the given logic, it seems that e2 is a Vigenere cipher"
   ]
  },
  {
   "cell_type": "code",
   "execution_count": 13,
   "metadata": {},
   "outputs": [],
   "source": [
    "#decrypting function for vignere cipher\n",
    "def vignere_decode(message, key):\n",
    "    key_len = len(key)\n",
    "    msg_len = len(message)\n",
    "    decrypted = ''\n",
    "    for i in range(msg_len):\n",
    "        num = (dict2[message[i]] - dict2[key[i%key_len]] + 26) % 26\n",
    "        decrypted += dict1[num+1]\n",
    "    return decrypted"
   ]
  },
  {
   "cell_type": "code",
   "execution_count": 14,
   "metadata": {},
   "outputs": [
    {
     "data": {
      "text/plain": [
       "['nxiusybmusxzaltinxiautvgbwvtla',\n",
       " 'finalkeyisnatdszgrqhebvpmxilfywcuko',\n",
       " 'thenextkeyiscryptography',\n",
       " 'usethekeytwenty',\n",
       " 'greatstart']"
      ]
     },
     "execution_count": 14,
     "metadata": {},
     "output_type": "execute_result"
    }
   ],
   "source": [
    "#decrypting the first 2 strings\n",
    "vignere_key = 'cryptography'\n",
    "for i in range(2):\n",
    "    cypher_text[i] = vignere_decode(cypher_text[i], vignere_key)\n",
    "cypher_text"
   ]
  },
  {
   "cell_type": "markdown",
   "metadata": {},
   "source": [
    "#### e2 is indeed a Vigenere cipher. \n",
    "\n",
    "#### Looking at e1, it again seems to be a substitution cipher. "
   ]
  },
  {
   "cell_type": "code",
   "execution_count": 15,
   "metadata": {},
   "outputs": [
    {
     "name": "stdout",
     "output_type": "stream",
     "text": [
      "25\n"
     ]
    }
   ],
   "source": [
    "key = 'natdszgrqhebvpmxilfywcuko'\n",
    "print(len(key))"
   ]
  },
  {
   "cell_type": "markdown",
   "metadata": {},
   "source": [
    "### The number of letters in the key is 25, and is missing a 'j' as well. This is usually a characteristic of a Playfair cipher, where we use a 5x5 matrix, with each element being one of the English alphabets (excluding 'j')"
   ]
  },
  {
   "cell_type": "code",
   "execution_count": 16,
   "metadata": {},
   "outputs": [],
   "source": [
    "#initializing the playfair cipher square to help in decrypting\n",
    "def playfair_init(key):\n",
    "    playfair_sq = {}\n",
    "    playfair_retrieve = {}\n",
    "    k=0\n",
    "    i=0\n",
    "    j=0\n",
    "    alphabet = 'abcdefghiklmnopqrstuvwxyz'\n",
    "    bool_alph = {}\n",
    "    for ch in alphabet:\n",
    "        bool_alph[ch] = False\n",
    "    while k < len(key):\n",
    "        if bool_alph[key[k]] == False:\n",
    "            playfair_sq[key[k]] = (k//5,k%5)\n",
    "            playfair_retrieve[(k//5,k%5)] = key[k]\n",
    "            bool_alph[key[k]] = True\n",
    "        k+=1    \n",
    "    for ch, bool_val in bool_alph.items():\n",
    "            if bool_val == False:\n",
    "                playfair_sq[ch] = (k//5, k%5)\n",
    "                playfair_retrieve[(k//5, k%5)] = ch\n",
    "                k+=1\n",
    "        \n",
    "    return playfair_sq, playfair_retrieve\n"
   ]
  },
  {
   "cell_type": "code",
   "execution_count": 17,
   "metadata": {},
   "outputs": [],
   "source": [
    "#main playfair decryption function\n",
    "def playfair_decode(message, square, retrieve):\n",
    "    msg_split = []\n",
    "    i = 0\n",
    "    if len(message)%2: message+='x'\n",
    "    while i < len(message):\n",
    "        temp = ''\n",
    "        if message[i] == message[i+1]:\n",
    "            temp += (message[i]+'x')\n",
    "        else:\n",
    "            temp += (message[i]+message[i+1])\n",
    "        i+=2\n",
    "        msg_split.append(temp)\n",
    "    result = ''\n",
    "    for pair in msg_split:\n",
    "        if square[pair[0]][0] == square[pair[1]][0]:\n",
    "            result += retrieve[(square[pair[0]][0], (square[pair[0]][1]+4)%5)]\n",
    "            result += retrieve[(square[pair[0]][0], (square[pair[1]][1]+4)%5)]\n",
    "        elif square[pair[0]][1] == square[pair[1]][1]:\n",
    "            result += retrieve[((square[pair[0]][0]+4)%5), square[pair[0]][1]]\n",
    "            result += retrieve[((square[pair[1]][0]+4)%5), square[pair[0]][1]]\n",
    "        else:\n",
    "            result += retrieve[(square[pair[0]][0], square[pair[1]][1])]\n",
    "            result += retrieve[(square[pair[1]][0], square[pair[0]][1])]\n",
    "    return result"
   ]
  },
  {
   "cell_type": "code",
   "execution_count": 18,
   "metadata": {},
   "outputs": [],
   "source": [
    "playfair_sq, playfair_retrieve = playfair_init(key)"
   ]
  },
  {
   "cell_type": "code",
   "execution_count": 19,
   "metadata": {},
   "outputs": [],
   "source": [
    "#deciphering the first string\n",
    "cypher_text[0] = playfair_decode(cypher_text[0], playfair_sq, playfair_retrieve)"
   ]
  },
  {
   "cell_type": "code",
   "execution_count": 20,
   "metadata": {},
   "outputs": [
    {
     "name": "stdout",
     "output_type": "stream",
     "text": [
      "['welcomepotentialwebclubrecruit', 'finalkeyisnatdszgrqhebvpmxilfywcuko', 'thenextkeyiscryptography', 'usethekeytwenty', 'greatstart']\n"
     ]
    }
   ],
   "source": [
    "print(cypher_text)"
   ]
  },
  {
   "cell_type": "markdown",
   "metadata": {},
   "source": [
    "### The message has been decoded. \n",
    "\n",
    "### Summary of encryption algorithms used here:\n",
    "- e1: Playfair cipher\n",
    "- e2: Vigenere cipher\n",
    "- e3: Caesar cipher (offset 20)\n",
    "- e4: Caesar cipher (offset 13)\n",
    "- e5: Base64 encrpytion"
   ]
  }
 ],
 "metadata": {
  "kernelspec": {
   "display_name": "Python 3",
   "language": "python",
   "name": "python3"
  },
  "language_info": {
   "codemirror_mode": {
    "name": "ipython",
    "version": 3
   },
   "file_extension": ".py",
   "mimetype": "text/x-python",
   "name": "python",
   "nbconvert_exporter": "python",
   "pygments_lexer": "ipython3",
   "version": "3.7.6"
  }
 },
 "nbformat": 4,
 "nbformat_minor": 4
}
